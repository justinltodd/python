{
 "cells": [
  {
   "cell_type": "code",
   "execution_count": 1,
   "metadata": {
    "collapsed": true
   },
   "outputs": [],
   "source": [
    "my_joke = \"What happens to a frog's car when it breaks down? It gets toad away.\""
   ]
  },
  {
   "cell_type": "code",
   "execution_count": 2,
   "metadata": {
    "collapsed": false
   },
   "outputs": [
    {
     "name": "stdout",
     "output_type": "stream",
     "text": [
      "What happens to a frog's car when it breaks down? It gets toad away.\n"
     ]
    }
   ],
   "source": [
    "print my_joke"
   ]
  },
  {
   "cell_type": "code",
   "execution_count": 3,
   "metadata": {
    "collapsed": false
   },
   "outputs": [
    {
     "data": {
      "text/plain": [
       "\"WHAT HAPPENS TO A FROG'S CAR WHEN IT BREAKS DOWN? IT GETS TOAD AWAY.\""
      ]
     },
     "execution_count": 3,
     "metadata": {},
     "output_type": "execute_result"
    }
   ],
   "source": [
    "my_joke.upper()"
   ]
  },
  {
   "cell_type": "code",
   "execution_count": 4,
   "metadata": {
    "collapsed": false
   },
   "outputs": [
    {
     "data": {
      "text/plain": [
       "1"
      ]
     },
     "execution_count": 4,
     "metadata": {},
     "output_type": "execute_result"
    }
   ],
   "source": [
    "my_joke.count(\"car\")"
   ]
  },
  {
   "cell_type": "code",
   "execution_count": 6,
   "metadata": {
    "collapsed": false
   },
   "outputs": [],
   "source": [
    "my_joke = \"WHAT HAPPENS TO A FROG'S CAR WHEN IT BREAKS DOWN? IT GETS TOAD AWAY.\""
   ]
  },
  {
   "cell_type": "code",
   "execution_count": 7,
   "metadata": {
    "collapsed": false
   },
   "outputs": [
    {
     "data": {
      "text/plain": [
       "0"
      ]
     },
     "execution_count": 7,
     "metadata": {},
     "output_type": "execute_result"
    }
   ],
   "source": [
    "my_joke.count(\"car\")"
   ]
  },
  {
   "cell_type": "code",
   "execution_count": 8,
   "metadata": {
    "collapsed": false
   },
   "outputs": [
    {
     "data": {
      "text/plain": [
       "1"
      ]
     },
     "execution_count": 8,
     "metadata": {},
     "output_type": "execute_result"
    }
   ],
   "source": [
    "my_joke.count(\"CAR\")"
   ]
  },
  {
   "cell_type": "code",
   "execution_count": 11,
   "metadata": {
    "collapsed": false
   },
   "outputs": [
    {
     "data": {
      "text/plain": [
       "True"
      ]
     },
     "execution_count": 11,
     "metadata": {},
     "output_type": "execute_result"
    }
   ],
   "source": [
    "my_joke.isupper()"
   ]
  },
  {
   "cell_type": "code",
   "execution_count": 12,
   "metadata": {
    "collapsed": false
   },
   "outputs": [
    {
     "data": {
      "text/plain": [
       "False"
      ]
     },
     "execution_count": 12,
     "metadata": {},
     "output_type": "execute_result"
    }
   ],
   "source": [
    "my_joke.islower()"
   ]
  },
  {
   "cell_type": "code",
   "execution_count": 13,
   "metadata": {
    "collapsed": false
   },
   "outputs": [
    {
     "data": {
      "text/plain": [
       "\"WHAT HAPPENS TO A FROG'S CAR WHEN IT BREAKS DOWN? IT GETS TOAD AWAY\""
      ]
     },
     "execution_count": 13,
     "metadata": {},
     "output_type": "execute_result"
    }
   ],
   "source": [
    "my_joke.strip(\".\")"
   ]
  },
  {
   "cell_type": "code",
   "execution_count": 14,
   "metadata": {
    "collapsed": false
   },
   "outputs": [
    {
     "data": {
      "text/plain": [
       "'WHAT HAPPENS TO A FROGS CAR WHEN IT BREAKS DOWN IT GETS TOAD AWAY'"
      ]
     },
     "execution_count": 14,
     "metadata": {},
     "output_type": "execute_result"
    }
   ],
   "source": [
    "import string\n",
    "my_joke.translate(None, string.punctuation)"
   ]
  },
  {
   "cell_type": "code",
   "execution_count": 16,
   "metadata": {
    "collapsed": false
   },
   "outputs": [
    {
     "name": "stdout",
     "output_type": "stream",
     "text": [
      "Name: \n",
      "test\n"
     ]
    },
    {
     "data": {
      "text/plain": [
       "'TEST'"
      ]
     },
     "execution_count": 16,
     "metadata": {},
     "output_type": "execute_result"
    }
   ],
   "source": [
    "print \"Name: \"\n",
    "first_name = str(raw_input())\n",
    "first_name.upper()"
   ]
  },
  {
   "cell_type": "code",
   "execution_count": 19,
   "metadata": {
    "collapsed": false
   },
   "outputs": [
    {
     "name": "stdout",
     "output_type": "stream",
     "text": [
      "Name: \n",
      "Justin\n",
      "Justin\n",
      "justin\n"
     ]
    }
   ],
   "source": [
    "print \"Name: \"\n",
    "first_name = str(raw_input())\n",
    "first_name.upper()\n",
    "first_name_lower = first_name.lower()\n",
    "first_name.count(\"a\")\n",
    "print first_name\n",
    "print first_name_lower"
   ]
  },
  {
   "cell_type": "code",
   "execution_count": 22,
   "metadata": {
    "collapsed": false
   },
   "outputs": [
    {
     "name": "stdout",
     "output_type": "stream",
     "text": [
      "Your name is Justin justin!\n"
     ]
    }
   ],
   "source": [
    "print \"Your name is {} {}!\".format(first_name,first_name_lower)"
   ]
  },
  {
   "cell_type": "code",
   "execution_count": 26,
   "metadata": {
    "collapsed": false
   },
   "outputs": [
    {
     "name": "stdout",
     "output_type": "stream",
     "text": [
      "exclamationWTF\n",
      "adverbHoly Hell\n",
      "nounpinto\n",
      "adjectivenaked\n"
     ]
    },
    {
     "data": {
      "text/plain": [
       "'WTF! he said Holy Hell as he jumped into his convertible pinto and drove off with his naked wife.'"
      ]
     },
     "execution_count": 26,
     "metadata": {},
     "output_type": "execute_result"
    }
   ],
   "source": [
    "\n",
    "mad_lib = \"{}! he said {} as he jumped into his convertible {} and drove off with his {} wife.\"\n",
    "\n",
    "exclamation = str(raw_input(\"exclamation\"))\n",
    "adverb = str(raw_input(\"adverb\"))\n",
    "noun = str(raw_input(\"noun\"))\n",
    "adjective = str(raw_input(\"adjective\"))\n",
    "\n",
    "mad_lib.format(exclamation,adverb,noun,adjective)\n",
    "\n",
    "\n",
    "\n"
   ]
  },
  {
   "cell_type": "code",
   "execution_count": 29,
   "metadata": {
    "collapsed": false
   },
   "outputs": [
    {
     "name": "stdout",
     "output_type": "stream",
     "text": [
      "[5]\n"
     ]
    }
   ],
   "source": [
    "l = []\n",
    "l.append(5)\n",
    "print l"
   ]
  },
  {
   "cell_type": "code",
   "execution_count": 30,
   "metadata": {
    "collapsed": false
   },
   "outputs": [
    {
     "name": "stdout",
     "output_type": "stream",
     "text": [
      "[5, 4]\n"
     ]
    }
   ],
   "source": [
    "l.append(4)\n",
    "print l"
   ]
  },
  {
   "cell_type": "code",
   "execution_count": 31,
   "metadata": {
    "collapsed": false
   },
   "outputs": [
    {
     "name": "stdout",
     "output_type": "stream",
     "text": [
      "[5, 4, 'a', 'b']\n"
     ]
    }
   ],
   "source": [
    "a = [\"a\",\"b\"]\n",
    "l.extend(a)\n",
    "print l"
   ]
  },
  {
   "cell_type": "code",
   "execution_count": 35,
   "metadata": {
    "collapsed": false
   },
   "outputs": [
    {
     "data": {
      "text/plain": [
       "[0]"
      ]
     },
     "execution_count": 35,
     "metadata": {},
     "output_type": "execute_result"
    }
   ],
   "source": [
    "my_class = [[\"Annie\",90,90,90],[\"Mary\",80,90,100]]\n",
    "my_class = [0]\n",
    "Annie = 0\n",
    "my_class[Annie]\n",
    "my_class[0:1]"
   ]
  },
  {
   "cell_type": "code",
   "execution_count": 36,
   "metadata": {
    "collapsed": false
   },
   "outputs": [
    {
     "name": "stdout",
     "output_type": "stream",
     "text": [
      "[4, 5, 'a', 'b']\n"
     ]
    }
   ],
   "source": [
    "l.sort()\n",
    "print l"
   ]
  },
  {
   "cell_type": "code",
   "execution_count": 37,
   "metadata": {
    "collapsed": false
   },
   "outputs": [
    {
     "name": "stdout",
     "output_type": "stream",
     "text": [
      "['b', 'a', 5, 4]\n"
     ]
    }
   ],
   "source": [
    "l.reverse()\n",
    "print l"
   ]
  },
  {
   "cell_type": "code",
   "execution_count": 39,
   "metadata": {
    "collapsed": false
   },
   "outputs": [
    {
     "name": "stdout",
     "output_type": "stream",
     "text": [
      "4\n"
     ]
    }
   ],
   "source": [
    "print len(l)"
   ]
  },
  {
   "cell_type": "code",
   "execution_count": 40,
   "metadata": {
    "collapsed": false
   },
   "outputs": [
    {
     "name": "stdout",
     "output_type": "stream",
     "text": [
      "0 b\n",
      "1 a\n",
      "2 5\n",
      "3 4\n"
     ]
    }
   ],
   "source": [
    "for i in range(0,len(l)):\n",
    "    print i,l[i]"
   ]
  },
  {
   "cell_type": "code",
   "execution_count": 41,
   "metadata": {
    "collapsed": true
   },
   "outputs": [],
   "source": [
    "s = \"Hello World!\""
   ]
  },
  {
   "cell_type": "code",
   "execution_count": 42,
   "metadata": {
    "collapsed": false
   },
   "outputs": [
    {
     "name": "stdout",
     "output_type": "stream",
     "text": [
      "H\n",
      "e\n",
      "l\n",
      "l\n",
      "o\n",
      " \n",
      "W\n",
      "o\n",
      "r\n",
      "l\n",
      "d\n",
      "!\n"
     ]
    }
   ],
   "source": [
    "for char in s:\n",
    "    print char"
   ]
  },
  {
   "cell_type": "code",
   "execution_count": 48,
   "metadata": {
    "collapsed": false
   },
   "outputs": [
    {
     "name": "stdout",
     "output_type": "stream",
     "text": [
      "Current Row number  0\n",
      " Current Column  0\n",
      "Old number in Matrix  1\n",
      "New number in Matrix  7\n",
      " Current Column  1\n",
      "Old number in Matrix  2\n",
      "New number in Matrix  10\n",
      " Current Column  2\n",
      "Old number in Matrix  3\n",
      "New number in Matrix  10\n",
      "Current Row number  1\n",
      " Current Column  0\n",
      "Old number in Matrix  4\n",
      "New number in Matrix  10\n",
      " Current Column  1\n",
      "Old number in Matrix  5\n",
      "New number in Matrix  13\n",
      " Current Column  2\n",
      "Old number in Matrix  6\n",
      "New number in Matrix  13\n",
      "Current Row number  2\n",
      " Current Column  0\n",
      "Old number in Matrix  7\n",
      "New number in Matrix  13\n",
      " Current Column  1\n",
      "Old number in Matrix  8\n",
      "New number in Matrix  16\n",
      " Current Column  2\n",
      "Old number in Matrix  9\n",
      "New number in Matrix  16\n",
      "[[4, 7, 7], [7, 10, 10], [10, 13, 13]]\n"
     ]
    }
   ],
   "source": [
    "my_matrix = [[1,2,3], [4,5,6], [7,8,9]]\n",
    "\n",
    "for row in range(0,len(my_matrix)):\n",
    "    print \"Current Row number \" , row\n",
    "    for c in range(0,len(my_matrix[0])):\n",
    "        print \" Current Column \" , c\n",
    "        print \"Old number in Matrix \" , my_matrix[row][c]\n",
    "        my_matrix[row][c] = my_matrix[row][0] + 3\n",
    "        print \"New number in Matrix \" , my_matrix[row][c] + 3\n",
    "print my_matrix"
   ]
  },
  {
   "cell_type": "code",
   "execution_count": null,
   "metadata": {
    "collapsed": true
   },
   "outputs": [],
   "source": []
  }
 ],
 "metadata": {
  "kernelspec": {
   "display_name": "Python 2",
   "language": "python",
   "name": "python2"
  },
  "language_info": {
   "codemirror_mode": {
    "name": "ipython",
    "version": 2
   },
   "file_extension": ".py",
   "mimetype": "text/x-python",
   "name": "python",
   "nbconvert_exporter": "python",
   "pygments_lexer": "ipython2",
   "version": "2.7.13"
  }
 },
 "nbformat": 4,
 "nbformat_minor": 2
}
